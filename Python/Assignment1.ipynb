{
 "cells": [
  {
   "cell_type": "markdown",
   "id": "a4b2889d",
   "metadata": {},
   "source": [
    "#### Assignment\n",
    "    *Create a python program find duplicates files by content. User will input path and it will scan all directories, subdirectories to find duplicate files\n",
    "    *Delete the duplicate file\n",
    "    *Generate random password with exact length = 6, with minimum 1 uppercase, 2 lowercase, 3 digits\n"
   ]
  },
  {
   "cell_type": "code",
   "execution_count": 17,
   "id": "b4491386",
   "metadata": {},
   "outputs": [
    {
     "name": "stdout",
     "output_type": "stream",
     "text": [
      "[['File1.txt', 'File2.txt'], ['Names.txt', 'Names2.txt']]\n"
     ]
    }
   ],
   "source": [
    "# Finding Duplicate files\n",
    "import os\n",
    "from pathlib import Path\n",
    "from filecmp import cmp\n",
    "\n",
    "DATA_DIR = Path(\"C:/Users/tsaluja/Python_Duplicate\")\n",
    "files = sorted(os.listdir(DATA_DIR))\n",
    "\n",
    "# with the same content\n",
    "duplicateFiles = []\n",
    "  \n",
    "# comparison of the documents\n",
    "for file_x in files:\n",
    "  \n",
    "    if_dupl = False\n",
    "  \n",
    "    for class_ in duplicateFiles:\n",
    "        # Comparing files having same content using cmp()\n",
    "        # class_[0] represents a class having same content\n",
    "        if_dupl = cmp(\n",
    "            DATA_DIR / file_x,\n",
    "            DATA_DIR / class_[0],\n",
    "            shallow=False\n",
    "        )\n",
    "        if if_dupl:\n",
    "            class_.append(file_x)\n",
    "            break\n",
    "  \n",
    "    if not if_dupl:\n",
    "        duplicateFiles.append([file_x])\n",
    "print(duplicateFiles)\n"
   ]
  },
  {
   "cell_type": "code",
   "execution_count": null,
   "id": "8afb09d1",
   "metadata": {},
   "outputs": [],
   "source": []
  },
  {
   "cell_type": "code",
   "execution_count": 28,
   "id": "31d5c3e2",
   "metadata": {},
   "outputs": [
    {
     "name": "stdout",
     "output_type": "stream",
     "text": [
      "vfsrsgyxedetssO1%\n"
     ]
    }
   ],
   "source": [
    "import string\n",
    "import secrets\n",
    "\n",
    "symbols = ['*', '%', '£'] # Can add more\n",
    "\n",
    "password = \"\"\n",
    "for _ in range(14):\n",
    "    password += secrets.choice(string.ascii_lowercase)\n",
    "password += secrets.choice(string.ascii_uppercase)\n",
    "password += secrets.choice(string.digits)\n",
    "password += secrets.choice(symbols)\n",
    "print(password)"
   ]
  },
  {
   "cell_type": "code",
   "execution_count": 30,
   "id": "8cf39dd6",
   "metadata": {},
   "outputs": [
    {
     "name": "stdout",
     "output_type": "stream",
     "text": [
      "YJktFVP:\"@|wK'MqT\n"
     ]
    }
   ],
   "source": [
    "import random\n",
    "import string\n",
    "\n",
    "\n",
    "for i in range(1):\n",
    "    lower = string.ascii_lowercase\n",
    "for i in range(1):\n",
    "    digits = string.digits\n",
    "for i in range(1):\n",
    "    upper = string.ascii_uppercase\n",
    "for i in range(2):\n",
    "    special = string.punctuation\n",
    "password = lower + upper + digits +special\n",
    "var = random.sample(password,17)\n",
    "pss=\"\".join(var) \n",
    "print(pss)"
   ]
  },
  {
   "cell_type": "code",
   "execution_count": null,
   "id": "31ef5af6",
   "metadata": {},
   "outputs": [],
   "source": []
  }
 ],
 "metadata": {
  "kernelspec": {
   "display_name": "Python 3 (ipykernel)",
   "language": "python",
   "name": "python3"
  },
  "language_info": {
   "codemirror_mode": {
    "name": "ipython",
    "version": 3
   },
   "file_extension": ".py",
   "mimetype": "text/x-python",
   "name": "python",
   "nbconvert_exporter": "python",
   "pygments_lexer": "ipython3",
   "version": "3.9.13"
  }
 },
 "nbformat": 4,
 "nbformat_minor": 5
}
