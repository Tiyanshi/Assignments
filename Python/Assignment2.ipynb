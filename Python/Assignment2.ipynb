{
 "cells": [
  {
   "cell_type": "markdown",
   "id": "fabcbba0",
   "metadata": {},
   "source": [
    "#### 1. Create a python program to find duplicate files by content. User will input path and it will scan all directories, sub-directories to find all duplicates files. Delete the found duplicate file."
   ]
  },
  {
   "cell_type": "code",
   "execution_count": 1,
   "id": "6f5a6891",
   "metadata": {},
   "outputs": [
    {
     "name": "stdout",
     "output_type": "stream",
     "text": [
      "[['File1.txt', 'File2.txt'], ['Names.txt', 'Names2.txt']]\n"
     ]
    }
   ],
   "source": [
    "import os\n",
    "from pathlib import Path\n",
    "from filecmp import cmp\n",
    "\n",
    "DATA_DIR = Path(\"C:/Users/tsaluja/Python_Duplicate\")\n",
    "files = sorted(os.listdir(DATA_DIR))\n",
    "\n",
    "# with the same content\n",
    "duplicateFiles = []\n",
    "  \n",
    "# comparison of the documents\n",
    "for file_x in files:\n",
    "  \n",
    "    if_dupl = False\n",
    "  \n",
    "    for class_ in duplicateFiles:\n",
    "        # Comparing files having same content using cmp()\n",
    "        # class_[0] represents a class having same content\n",
    "        if_dupl = cmp(\n",
    "            DATA_DIR / file_x,\n",
    "            DATA_DIR / class_[0],\n",
    "            shallow=False\n",
    "        )\n",
    "        if if_dupl:\n",
    "            class_.append(file_x)\n",
    "            break\n",
    "  \n",
    "    if not if_dupl:\n",
    "        duplicateFiles.append([file_x])\n",
    "print(duplicateFiles)\n"
   ]
  },
  {
   "cell_type": "markdown",
   "id": "c50e3cc7",
   "metadata": {},
   "source": [
    "#### 2. Generate random Password with exact length = 6, with minimum 1 uppercase, 2 lowercase, 2 digits, and remaining special characters.Using these packages [random, strings]"
   ]
  },
  {
   "cell_type": "code",
   "execution_count": 7,
   "id": "6b2380c4",
   "metadata": {},
   "outputs": [
    {
     "name": "stdout",
     "output_type": "stream",
     "text": [
      "p7UO3-\n"
     ]
    }
   ],
   "source": [
    "import random\n",
    "import string\n",
    "\n",
    "\n",
    "for i in range(2):\n",
    "    lower = string.ascii_lowercase\n",
    "for i in range(2):\n",
    "    digits = string.digits\n",
    "for i in range(1):\n",
    "    upper = string.ascii_uppercase\n",
    "for i in range(1):\n",
    "    special = string.punctuation\n",
    "password = lower + upper + digits +special\n",
    "var = random.sample(password,6)\n",
    "pss=\"\".join(var) \n",
    "print(pss)"
   ]
  },
  {
   "cell_type": "markdown",
   "id": "b3ffa141",
   "metadata": {},
   "source": [
    "#### 3.Create 2D array and update the same 2D array provided that every prime number position should be replaced by cube of the positioned number."
   ]
  },
  {
   "cell_type": "code",
   "execution_count": 114,
   "id": "ed502760",
   "metadata": {},
   "outputs": [
    {
     "name": "stdout",
     "output_type": "stream",
     "text": [
      "[[  0   1   8]\n",
      " [ 27   4 125]\n",
      " [  6 343   8]]\n"
     ]
    }
   ],
   "source": [
    "import numpy as np\n",
    "arr = np.arange(0,9).reshape(3,3)\n",
    "def prime(n):\n",
    "    count=0\n",
    "    for i in range(1,10):\n",
    "        if n%i==0:\n",
    "            count+=1\n",
    "    if count==2:\n",
    "        return True\n",
    "    else:\n",
    "        return False\n",
    "\n",
    "for i in range(3): \n",
    "    for j in range(3):\n",
    "        if prime(i*3+j):\n",
    "            arr[i,j]=(i*3+j)**3\n",
    "print(arr)"
   ]
  },
  {
   "cell_type": "markdown",
   "id": "a889e441",
   "metadata": {},
   "source": [
    "#### 4.Python program to get the sum of every cubed value and its previous integer."
   ]
  },
  {
   "cell_type": "code",
   "execution_count": 115,
   "id": "9d2f64b2",
   "metadata": {},
   "outputs": [
    {
     "name": "stdout",
     "output_type": "stream",
     "text": [
      "[[  0   1   9  36]\n",
      " [  4 129   6 349]\n",
      " [  8   9  10  11]\n",
      " [ 12  13  14  15]]\n"
     ]
    }
   ],
   "source": [
    "import numpy as np\n",
    "arr = np.arange(0,16).reshape(4,4)\n",
    "def prime(n):\n",
    "    count=0\n",
    "    for i in range(1,10):\n",
    "        if n%i==0:\n",
    "            count+=1\n",
    "    if count==2:\n",
    "        return True\n",
    "    else:\n",
    "        return False\n",
    "\n",
    "for i in range(4): \n",
    "    for j in range(4):\n",
    "        if prime(i*4+j):\n",
    "            arr[i,j]=(i*4+j)**3+arr[i,j-1]\n",
    "print(arr)\n"
   ]
  },
  {
   "cell_type": "markdown",
   "id": "a62b64ef",
   "metadata": {},
   "source": [
    "#### 5.\tGiven two arrays, find their intersection. Examples:"
   ]
  },
  {
   "cell_type": "code",
   "execution_count": 52,
   "id": "12466f08",
   "metadata": {},
   "outputs": [
    {
     "name": "stdout",
     "output_type": "stream",
     "text": [
      "3 3 5 "
     ]
    }
   ],
   "source": [
    "def intersection(a, b, n, m):\n",
    "    i = 0\n",
    "    j = 0\n",
    "    while (i < n and j < m):\n",
    "        if (a[i] > b[j]):\n",
    "            j += 1\n",
    "        else:\n",
    "            if (b[j] > a[i]):\n",
    "                i += 1\n",
    "            else:\n",
    "                # when both are equal\n",
    "                print(a[i], end=\" \")\n",
    "                i += 1\n",
    "                j += 1\n",
    "a = [1, 3, 2, 3, 4, 5, 5, 6]\n",
    "b = [3, 3, 5]\n",
    " \n",
    "n = len(a)\n",
    "m = len(b)\n",
    "    \n",
    "a.sort()\n",
    "b.sort()\n",
    "\n",
    "intersection(a, b, n, m)"
   ]
  },
  {
   "cell_type": "markdown",
   "id": "09539291",
   "metadata": {},
   "source": [
    "#### 6.\tCreate a 7 x 7  2D array having only multiples of 7. And return the last element of the same."
   ]
  },
  {
   "cell_type": "code",
   "execution_count": 64,
   "id": "d65e2d55",
   "metadata": {},
   "outputs": [
    {
     "name": "stdout",
     "output_type": "stream",
     "text": [
      "[[  7.  14.  21.  28.  35.  42.  49.]\n",
      " [ 56.  63.  70.  77.  84.  91.  98.]\n",
      " [105. 112. 119. 126. 133. 140. 147.]\n",
      " [154. 161. 168. 175. 182. 189. 196.]\n",
      " [203. 210. 217. 224. 231. 238. 245.]\n",
      " [252. 259. 266. 273. 280. 287. 294.]\n",
      " [301. 308. 315. 322. 329. 336. 343.]]\n",
      "The last element obtained :  343.0\n"
     ]
    }
   ],
   "source": [
    "arr=np.zeros((7,7))\n",
    "multiple=0\n",
    "for i in range(7):\n",
    "    for j in range(7):\n",
    "        multiple+=7\n",
    "        arr[i][j]=multiple\n",
    "print(arr)\n",
    "last=arr[-1,-1]\n",
    "print(\"The last element obtained : \",last)"
   ]
  },
  {
   "cell_type": "markdown",
   "id": "b305df93",
   "metadata": {},
   "source": [
    "#### 7.\tChecker Board Patten using Numpy:"
   ]
  },
  {
   "cell_type": "raw",
   "id": "ec80e051",
   "metadata": {},
   "source": [
    "[1   0   1   0   1   0   1  \n",
    " 0   1   0   1   0   1   0\n",
    " 1   0   1   0   1   0   1\n",
    " 0   1   0   1   0   1   0\n",
    " 1   0   1   0   1   0   1  ]\n"
   ]
  },
  {
   "cell_type": "code",
   "execution_count": 6,
   "id": "ab6227a7",
   "metadata": {},
   "outputs": [
    {
     "data": {
      "text/plain": [
       "array([[1., 0., 1., 0., 1., 0., 1.],\n",
       "       [0., 1., 0., 1., 0., 1., 0.],\n",
       "       [1., 0., 1., 0., 1., 0., 1.],\n",
       "       [0., 1., 0., 1., 0., 1., 0.],\n",
       "       [1., 0., 1., 0., 1., 0., 1.]])"
      ]
     },
     "execution_count": 6,
     "metadata": {},
     "output_type": "execute_result"
    }
   ],
   "source": [
    "import numpy as np\n",
    "x = np.ones((5, 7))\n",
    "x[1::2, 0::2] = 0 \n",
    "x[0::2, 1::2] = 0\n",
    "x"
   ]
  },
  {
   "cell_type": "markdown",
   "id": "b7181906",
   "metadata": {},
   "source": [
    "#### 8.\tCreate a given Matrix:\n",
    "\n"
   ]
  },
  {
   "cell_type": "raw",
   "id": "1f29827a",
   "metadata": {},
   "source": [
    "[  A,     B,     C,       D\n",
    "   E,     F,     G,       H\n",
    "   I,     a,     K,       L\n",
    "   M,     N,     o,       P\n",
    "   Q,     R,     S,       T\n",
    "   U,     0,     W,       O ]\n",
    "\n",
    "Replace all the vowels by np.nan\n",
    "A, E, I, O U  -- >  np.nan\n",
    "Return the count of the missing values"
   ]
  },
  {
   "cell_type": "code",
   "execution_count": 33,
   "id": "9f7b9c4d",
   "metadata": {},
   "outputs": [
    {
     "name": "stdout",
     "output_type": "stream",
     "text": [
      "Enter number of rows 6\n",
      "Enter number of columns 4\n",
      "[['nan' 'B' 'C' 'D']\n",
      " ['nan' 'F' 'G' 'H']\n",
      " ['nan' 'J' 'K' 'L']\n",
      " ['M' 'N' 'nan' 'P']\n",
      " ['Q' 'R' 'S' 'T']\n",
      " ['nan' 'V' 'W' 'X']]\n",
      "The count of the missing values comes out to be : 5\n"
     ]
    }
   ],
   "source": [
    "# Alphabetic pattern using numpy\n",
    "import numpy as np\n",
    "x=int(input(\"Enter number of rows \"))\n",
    "y=int(input(\"Enter number of columns \"))\n",
    "arr=(['A','B','C','D'],\n",
    "     ['E','F','G','H'],\n",
    "     ['I','J','K','L'],\n",
    "     ['M','N','O','P'],\n",
    "     ['Q','R','S','T'],\n",
    "     ['U','V','W','X'])\n",
    "\n",
    "count=0\n",
    "for i in range(x):\n",
    "    for j in range(y):\n",
    "        if arr[i][j] =='A' or arr[i][j] =='E' or arr[i][j] =='I' or arr[i][j] =='O' or arr[i][j] =='U':\n",
    "            arr[i][j]=np.nan\n",
    "            count+=1\n",
    "print(np.matrix(arr))\n",
    "print(\"The count of the missing values comes out to be :\",count)"
   ]
  }
 ],
 "metadata": {
  "kernelspec": {
   "display_name": "Python 3 (ipykernel)",
   "language": "python",
   "name": "python3"
  },
  "language_info": {
   "codemirror_mode": {
    "name": "ipython",
    "version": 3
   },
   "file_extension": ".py",
   "mimetype": "text/x-python",
   "name": "python",
   "nbconvert_exporter": "python",
   "pygments_lexer": "ipython3",
   "version": "3.9.13"
  }
 },
 "nbformat": 4,
 "nbformat_minor": 5
}
